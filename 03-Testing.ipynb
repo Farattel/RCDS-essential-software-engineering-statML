{
 "cells": [
  {
   "cell_type": "markdown",
   "metadata": {},
   "source": [
    "# Testing\n",
    "\n",
    "Writing formal tests is an important part of developing programming projects. It becomes even more vital when working on large projects or collaborating with others. Some of the benefits of tests include:\n",
    "\n",
    "* Writing tests forces us to think about how a section of code should behave, helping with the development process.\n",
    "* Tests can be re-run togb\n",
    " ensure that changes to the code have not broken anything.\n",
    "* Tests can be used to document how a section of code should behave.\n",
    "* Tests can catch bugs closer to when the code is written, reducing the time spent debugging."
   ]
  },
  {
   "cell_type": "markdown",
   "metadata": {},
   "source": [
    "## Tests in VS Code\n",
    "\n",
    "VS Code contains integrated tools for testing. The course materials already contains the file [`tests/test_quadratic.py`](tests/test_quadratic.py) which contains some tests for the function in [`quadratic.py`](quadratic.py).\n",
    "\n",
    "To run these tests, we can open the testing tab in the explorer (the conical flask icon). Initially, VS Code will not be configured to access the tests, so click \"Configure Python Tests\". The tests we have written use the `unittest` framework, so click \"unittest\" in the dropdown box at the top of the screen. We then need to tell VS Code where to look for the tests, so click on \"tests\" to tell VS Code to look in that directory. We need to tell VS Code the pattern of the test files, so we can click `test_*.py` to match the files in the `tests` directory. This has given VS Code all the information it needs to access the tests. This configuration is stored in the file [`.vscode/settings.json`](.vscode/settings.json).\n",
    "\n",
    "In the testing panel on the left, we can now see the tests. We can run all the tests by clicking the play button at the top of the panel. We can also run individual tests by clicking the play button next to the test. The output of the tests will be displayed in the terminal at the bottom of the screen. The icons next to the tests will also update to show whether the tests have passed or failed."
   ]
  },
  {
   "cell_type": "markdown",
   "metadata": {},
   "source": [
    "## Using the Test Results\n",
    "\n",
    "There are a number of different places we can view tests results:\n",
    "\n",
    "* The Tests panel\n",
    "* The terminal\n",
    "* Opening the test file [`tests/test_quadratic.py`](tests/test_quadratic.py)\n",
    "\n",
    "When we run the tests now, they should all pass (assuming you fixed the problem with the calcualtion of the discriminant described in [`02-Debugging.ipynb`](02-Debugging.ipynb)). \n",
    "\n",
    "Let's simulate updating the code and making an error. Open [`quadratic.py`](quadratic.py) and edit the line inside the first `else` section so it reads `return([c / b])` instead of `return([-c / b])`. Now run the tests again. The test `test_zero_a` should now fail. If we examine the output, we'll see that the test failed because the expected output was `[-1]` but `[1]` was returned. If we are running the tests regularly as we develop the code, we would have been alerted to this error as soon as it was introduced, helping us to find it and fix it.\n",
    "\n",
    "In the test tab, we can also click the Debug Tests button to run the tests in debug mode, causing them to pause at breakpoints. This can be useful for diagnosing why tests fail on my complex code.\n",
    "\n",
    "The interface of VS Code has made it convenient to run the tests and examine the output."
   ]
  },
  {
   "cell_type": "markdown",
   "metadata": {},
   "source": [
    "## Exercise\n",
    "\n",
    "In a new file, create a simple function that adds together two numbers. Then create a file in the `tests` directory that contains tests for this function. Feel free to copy the structure from [`tests/test_quadratic.py`](tests/test_quadratic.py)."
   ]
  }
 ],
 "metadata": {
  "kernelspec": {
   "display_name": "Python 3",
   "language": "python",
   "name": "python3"
  },
  "language_info": {
   "name": "python",
   "version": "3.11.11"
  }
 },
 "nbformat": 4,
 "nbformat_minor": 2
}
